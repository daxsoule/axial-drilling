{
 "cells": [
  {
   "cell_type": "markdown",
   "metadata": {},
   "source": [
    "# Axial Drilling Maps"
   ]
  },
  {
   "cell_type": "markdown",
   "metadata": {},
   "source": [
    "---\n",
    "## Load All Data"
   ]
  },
  {
   "cell_type": "code",
   "execution_count": null,
   "metadata": {},
   "outputs": [],
   "source": [
    "import pandas as pd\n",
    "import xarray as xr\n",
    "xr.set_options(display_style='html');"
   ]
  },
  {
   "cell_type": "code",
   "execution_count": null,
   "metadata": {},
   "outputs": [],
   "source": [
    "data_dir = '/home/jovyan/repos/axial-drilling/maps/data/'"
   ]
  },
  {
   "cell_type": "markdown",
   "metadata": {},
   "source": [
    "### Load Vent Data"
   ]
  },
  {
   "cell_type": "code",
   "execution_count": null,
   "metadata": {},
   "outputs": [],
   "source": [
    "vents_df = pd.read_excel(data_dir + '/markers-vents-axial-master-updated-post2017.xlsx', sheet_name = 1,\n",
    "                     usecols=[0, 1, 2, 7, 10], names=['name', 'lat', 'lon', 'type', 'use'])\n",
    "vents_df.use = vents_df.use.str.casefold()\n",
    "vents_df = vents_df[vents_df.use == 'yes'].reset_index(drop = True) # drop vents with use=='no'\n",
    "vents_df.head()"
   ]
  },
  {
   "cell_type": "markdown",
   "metadata": {},
   "source": [
    "### Load Bathy Data"
   ]
  },
  {
   "cell_type": "code",
   "execution_count": null,
   "metadata": {},
   "outputs": [],
   "source": [
    "bathy_file = 'axial_auv_mbari09and11_clean_gcs_1m_v3.grd'"
   ]
  },
  {
   "cell_type": "code",
   "execution_count": null,
   "metadata": {},
   "outputs": [],
   "source": [
    "bathy_ds = xr.load_dataset(data_dir + bathy_file)\n",
    "bathy_ds = bathy_ds.rename({'x': 'lon', 'y': 'lat', 'z': 'depth'})\n",
    "bathy_ds"
   ]
  },
  {
   "cell_type": "markdown",
   "metadata": {},
   "source": [
    "### Load OOI Infrastructure Data"
   ]
  },
  {
   "cell_type": "code",
   "execution_count": null,
   "metadata": {},
   "outputs": [],
   "source": [
    "ooi_df = pd.read_excel(data_dir + 'RSN_Positions_20190906_PUB.xlsx', sheet_name = 2,\n",
    "                     usecols=[0, 1, 2, 8], names=['name', 'lat', 'lon', 'type'])\n",
    "boundary_east = -129.8\n",
    "ooi_df = ooi_df[ooi_df.lon < boundary_east].reset_index(drop = True) # remove infrastructure west of Axial base\n",
    "ooi_df.head()"
   ]
  },
  {
   "cell_type": "code",
   "execution_count": null,
   "metadata": {},
   "outputs": [],
   "source": [
    "ooi_cables_df = pd.read_excel(data_dir + 'RSN_Positions_20190906_PUB.xlsx', sheet_name = 5,\n",
    "                     usecols=[1, 2, 3], names=['name', 'lat', 'lon'])\n",
    "ooi_cables_df = ooi_cables_df[ooi_cables_df.lon < boundary_east].reset_index(drop = True)\n",
    "ooi_cables_df.head()"
   ]
  },
  {
   "cell_type": "markdown",
   "metadata": {},
   "source": [
    "### Load Layer 2A Thickness Data"
   ]
  },
  {
   "cell_type": "code",
   "execution_count": null,
   "metadata": {},
   "outputs": [],
   "source": [
    "thickness_df = pd.read_csv(data_dir + 'l2A_3D.csv', names=['lon', 'lat', 'thickness'])\n",
    "thickness_df.thickness = round(thickness_df.thickness*1000)"
   ]
  },
  {
   "cell_type": "code",
   "execution_count": null,
   "metadata": {},
   "outputs": [],
   "source": [
    "lat = thickness_df.lat.values.reshape(301, 401).tolist()\n",
    "lon = thickness_df.lon.values.reshape(301, 401).tolist()\n",
    "thickness = thickness_df.thickness.values.reshape(301, 401).tolist()"
   ]
  },
  {
   "cell_type": "code",
   "execution_count": null,
   "metadata": {},
   "outputs": [],
   "source": [
    "thickness_ds = xr.Dataset({'thickness': (['x', 'y'], thickness)},\n",
    "                coords = {'lon': (['x', 'y'], lon),\n",
    "                          'lat': (['x', 'y'], lat)})\n",
    "thickness_ds"
   ]
  },
  {
   "cell_type": "markdown",
   "metadata": {},
   "source": [
    "### Define Hole Locations"
   ]
  },
  {
   "cell_type": "code",
   "execution_count": null,
   "metadata": {},
   "outputs": [],
   "source": [
    "holes = [['AXIAL_01A', 45.925414, -129.977862],\n",
    "         ['AXIAL_02A', 45.926026, -129.971828],\n",
    "         ['AXIAL_03A', 45.916465, -129.976786],\n",
    "         ['AXIAL_04A', 45.920833, -129.977222]]\n",
    "holes_df = pd.DataFrame(holes, columns = ['name', 'lat', 'lon']).set_index('name')\n",
    "holes_df"
   ]
  },
  {
   "cell_type": "markdown",
   "metadata": {},
   "source": [
    "### Define Circle Locations"
   ]
  },
  {
   "cell_type": "code",
   "execution_count": null,
   "metadata": {},
   "outputs": [],
   "source": [
    "from cartopy import geodesic as gd"
   ]
  },
  {
   "cell_type": "code",
   "execution_count": null,
   "metadata": {},
   "outputs": [],
   "source": [
    "def circle(lat, lon, radius):\n",
    "    circ = gd.Geodesic().circle(lon=lon, lat=lat, radius=radius, n_samples=40, endpoint=True)\n",
    "    return pd.DataFrame({'lon': list(circ[:,0]), 'lat': list(circ[:,1])})"
   ]
  },
  {
   "cell_type": "code",
   "execution_count": null,
   "metadata": {},
   "outputs": [],
   "source": [
    "RS03W8_circles = []\n",
    "radius = 20\n",
    "for i in ooi_cables_df[ooi_cables_df.name=='RS03W8'].index:\n",
    "    lat = ooi_cables_df[ooi_cables_df.name=='RS03W8'].loc[i].lat\n",
    "    lon = ooi_cables_df[ooi_cables_df.name=='RS03W8'].loc[i].lon\n",
    "    RS03W8_circles.append(circle(lat, lon, radius))"
   ]
  },
  {
   "cell_type": "code",
   "execution_count": null,
   "metadata": {},
   "outputs": [],
   "source": [
    "RS03W6_circles = []\n",
    "radius = 20\n",
    "for i in ooi_cables_df[ooi_cables_df.name=='RS03W6'].index:\n",
    "    lat = ooi_cables_df[ooi_cables_df.name=='RS03W6'].loc[i].lat\n",
    "    lon = ooi_cables_df[ooi_cables_df.name=='RS03W6'].loc[i].lon\n",
    "    RS03W6_circles.append(circle(lat, lon, radius))"
   ]
  },
  {
   "cell_type": "code",
   "execution_count": null,
   "metadata": {},
   "outputs": [],
   "source": [
    "ooi_circles = []\n",
    "radius = 20\n",
    "for i in ooi_df.index:\n",
    "    lat = ooi_df.loc[i].lat\n",
    "    lon = ooi_df.loc[i].lon\n",
    "    ooi_circles.append(circle(lat, lon, radius))"
   ]
  },
  {
   "cell_type": "markdown",
   "metadata": {},
   "source": [
    "---\n",
    "## Interactive Plots\n",
    "These plots using Holoviews and Hvplot are rough and meant for exploring the data and picking hole locations. The GMT plots below will be pulication-ready and finished once we have decided on hole locations and the elements to include."
   ]
  },
  {
   "cell_type": "code",
   "execution_count": null,
   "metadata": {},
   "outputs": [],
   "source": [
    "import cartopy.crs as ccrs\n",
    "import hvplot.pandas\n",
    "import hvplot.xarray\n",
    "import holoviews as hv"
   ]
  },
  {
   "cell_type": "markdown",
   "metadata": {},
   "source": [
    "#### Layer 2A Thickness Overlay"
   ]
  },
  {
   "cell_type": "code",
   "execution_count": null,
   "metadata": {},
   "outputs": [],
   "source": [
    "plot_opts = {'x': 'lon', 'y': 'lat', 'geo': True, 'hover': True, 'frame_height': 600, 'frame_width': 800}\n",
    "circle_color = 'white'"
   ]
  },
  {
   "cell_type": "code",
   "execution_count": null,
   "metadata": {},
   "outputs": [],
   "source": [
    "RS03W8_circles_hvplots = []\n",
    "for RS03W8_circle in RS03W8_circles:\n",
    "    RS03W8_circles_hvplots.append(RS03W8_circle.hvplot.paths(**plot_opts, c = circle_color))"
   ]
  },
  {
   "cell_type": "code",
   "execution_count": null,
   "metadata": {},
   "outputs": [],
   "source": [
    "RS03W6_circles_hvplots = []\n",
    "for RS03W6_circle in RS03W6_circles:\n",
    "    RS03W6_circles_hvplots.append(RS03W6_circle.hvplot.paths(**plot_opts, c = circle_color))"
   ]
  },
  {
   "cell_type": "code",
   "execution_count": null,
   "metadata": {},
   "outputs": [],
   "source": [
    "ooi_circles_hvplots = []\n",
    "for ooi_circle in ooi_circles:\n",
    "    ooi_circles_hvplots.append(ooi_circle.hvplot.paths(**plot_opts, c = circle_color))"
   ]
  },
  {
   "cell_type": "code",
   "execution_count": null,
   "metadata": {},
   "outputs": [],
   "source": [
    "ooi_cables_hvplots = []\n",
    "for name, group in ooi_cables_df.groupby('name'):\n",
    "    ooi_cables_hvplots.append(group.hvplot.paths(**plot_opts, c = circle_color))"
   ]
  },
  {
   "cell_type": "code",
   "execution_count": null,
   "metadata": {},
   "outputs": [],
   "source": [
    "thickness_ds.hvplot.quadmesh(**plot_opts, hover_cols=['lon', 'lat', 'thickness']).opts(clim=(450,700)) \\\n",
    "  * hv.Overlay(RS03W8_circles_hvplots + RS03W6_circles_hvplots + ooi_circles_hvplots + ooi_cables_hvplots) \\\n",
    "  * vents_df.hvplot.points(**plot_opts, c='red', s=10, hover_cols=['lon', 'lat', 'name']) \\\n",
    "  * ooi_df.hvplot.points(**plot_opts, c='black', s=10, hover_cols=['lon', 'lat', 'name']) \\\n",
    "  * holes_df.hvplot.points(**plot_opts, c='yellow', s=100)"
   ]
  },
  {
   "cell_type": "markdown",
   "metadata": {},
   "source": [
    "#### Bathy Overlay"
   ]
  },
  {
   "cell_type": "code",
   "execution_count": null,
   "metadata": {},
   "outputs": [],
   "source": [
    "plot_opts = {'x': 'lon', 'y': 'lat', 'geo': True, 'hover': True, 'frame_height': 600, 'frame_width': 800}"
   ]
  },
  {
   "cell_type": "code",
   "execution_count": null,
   "metadata": {},
   "outputs": [],
   "source": [
    "bathy_ds.depth[::10].hvplot.image(**plot_opts, cmap = 'bmy').opts(clim=(-1550,-1500)) \\\n",
    "  * hv.Overlay(RS03W8_circles_hvplots + RS03W6_circles_hvplots + ooi_circles_hvplots + ooi_cables_hvplots) \\\n",
    "  * vents_df.hvplot.points(**plot_opts, c='cyan', s=10, hover_cols=['lon', 'lat', 'name']) \\\n",
    "  * ooi_df.hvplot.points(**plot_opts, c='black', s=10, hover_cols=['lon', 'lat', 'name']) \\\n",
    "  * holes_df.hvplot.points(**plot_opts, c='yellow', s=100)"
   ]
  },
  {
   "cell_type": "markdown",
   "metadata": {},
   "source": [
    "---\n",
    "## GMT Plots"
   ]
  },
  {
   "cell_type": "code",
   "execution_count": null,
   "metadata": {},
   "outputs": [],
   "source": [
    "import os\n",
    "import pandas as pd\n",
    "import pygmt\n",
    "import numpy as np"
   ]
  },
  {
   "cell_type": "markdown",
   "metadata": {},
   "source": [
    "### Bathy"
   ]
  },
  {
   "cell_type": "code",
   "execution_count": null,
   "metadata": {},
   "outputs": [],
   "source": [
    "import os\n",
    "import pandas as pd\n",
    "import pygmt\n",
    "import numpy as np"
   ]
  },
  {
   "cell_type": "code",
   "execution_count": null,
   "metadata": {},
   "outputs": [],
   "source": [
    "cmd = 'gmt grdgradient %s%s -Gshading.grd -A40/10 -Ne2' % (data_dir, bathy_grd)\n",
    "print(cmd)\n",
    "os.system(cmd)"
   ]
  },
  {
   "cell_type": "code",
   "execution_count": null,
   "metadata": {},
   "outputs": [],
   "source": [
    "# plot bathy\n",
    "# *** make NaN white ***\n",
    "outfile = 'axial_auv_mbari09and11_clean_gcs_1m_v3.grd'\n",
    "fig = pygmt.Figure()\n",
    "fig.basemap(region=[-130-3.75/60, -129-57/60, 45+54/60, 46], projection=\"M-130/46/10i\", frame=True)\n",
    "fig.grdimage('%s%s' % (data_dir, outfile), shading='shading.grd')\n",
    "#fig.show(width=400)"
   ]
  },
  {
   "cell_type": "code",
   "execution_count": null,
   "metadata": {},
   "outputs": [],
   "source": [
    "fig_base = fig"
   ]
  },
  {
   "cell_type": "code",
   "execution_count": null,
   "metadata": {},
   "outputs": [],
   "source": [
    "fig_base.plot(df_ooi_objects.lon.values, df_ooi_objects.lat.values, style=\"c0.2\", color=\"red\")\n",
    "fig_base.plot(df_vents_plot.lon.values, df_vents_plot.lat.values, style=\"i0.3c\", color=\"cyan\")\n",
    "for cable in df_ooi_cables.name.unique():\n",
    "    cable_locs = df_ooi_cables.loc[df_ooi_cables.name == cable]\n",
    "    fig_base.plot(df_cable_locs.lon.values, df_cable_locs.lat.values, W='1p,white')\n",
    "fig_base.show(width=800)"
   ]
  },
  {
   "cell_type": "code",
   "execution_count": null,
   "metadata": {},
   "outputs": [],
   "source": [
    "# plot bathy\n",
    "# *** make NaN white ***\n",
    "outfile = 'axial_auv_mbari09and11_clean_gcs_1m_v3.grd'\n",
    "fig_base_zoom = pygmt.Figure()\n",
    "fig_base_zoom.basemap(region=[-(130+0.5/60), -(129+58.5/60), 45+55.25/60, 45+55.5/60], projection=\"M-130/46/10i\", frame=True)\n",
    "fig_base_zoom.grdimage('%s%s' % (data_dir, outfile), shading='shading.grd')\n",
    "#fig.show()"
   ]
  },
  {
   "cell_type": "code",
   "execution_count": null,
   "metadata": {},
   "outputs": [],
   "source": [
    "fig_base_zoom_base = fig_base_zoom"
   ]
  },
  {
   "cell_type": "code",
   "execution_count": null,
   "metadata": {},
   "outputs": [],
   "source": [
    "fig_base_zoom_base.plot(ooi_objects.lon.values, ooi_objects.lat.values, style=\"c0.2\", color=\"red\")\n",
    "fig_base_zoom_base.plot(vents_plot.lon.values, vents_plot.lat.values, style=\"i0.3c\", color=\"cyan\")\n",
    "for cable in ooi_cables.name.unique():\n",
    "    cable_locs = ooi_cables.loc[ooi_cables.name == cable]\n",
    "    fig_base_zoom_base.plot(cable_locs.lon.values, cable_locs.lat.values, W='1p,white')\n",
    "fig_base_zoom_base.show(width=800)"
   ]
  },
  {
   "cell_type": "code",
   "execution_count": null,
   "metadata": {},
   "outputs": [],
   "source": [
    "fig_base_zoom_base.plot(ooi_objects.lon.values, ooi_objects.lat.values, style=\"c0.2\", color=\"red\")\n",
    "fig_base_zoom_base.plot(vents_plot.lon.values, vents_plot.lat.values, style=\"i0.3c\", color=\"cyan\")\n",
    "for cable in ooi_cables.name.unique():\n",
    "    cable_locs = ooi_cables.loc[ooi_cables.name == cable]\n",
    "    fig_base_zoom_base.plot(cable_locs.lon.values, cable_locs.lat.values, W='1p,white')\n",
    "fig_base_zoom_base.show(width=800)"
   ]
  },
  {
   "cell_type": "markdown",
   "metadata": {},
   "source": [
    "### Vents"
   ]
  },
  {
   "cell_type": "code",
   "execution_count": null,
   "metadata": {},
   "outputs": [],
   "source": [
    "fig.plot(vents_plot.lon.values, vents_plot.lat.values, style=\"i0.3c\", color=\"cyan\")\n",
    "fig.show()"
   ]
  },
  {
   "cell_type": "markdown",
   "metadata": {},
   "source": [
    "### OOI Cable Infrastructure"
   ]
  },
  {
   "cell_type": "code",
   "execution_count": null,
   "metadata": {},
   "outputs": [],
   "source": [
    "fig.plot(ooi_objects.lon.values, ooi_objects.lat.values, style=\"c0.2\", color=\"red\")"
   ]
  },
  {
   "cell_type": "code",
   "execution_count": null,
   "metadata": {},
   "outputs": [],
   "source": [
    "for cable in ooi_cables.name.unique():\n",
    "    cable_locs = ooi_cables.loc[ooi_cables.name == cable]\n",
    "    fig.plot(cable_locs.lon.values, cable_locs.lat.values, W='yellow')\n",
    "fig.show(width=800)"
   ]
  },
  {
   "cell_type": "markdown",
   "metadata": {},
   "source": [
    "---\n",
    "## Scratch"
   ]
  },
  {
   "cell_type": "code",
   "execution_count": null,
   "metadata": {},
   "outputs": [],
   "source": [
    "df_rad_300_1 = circle(45.9263, -129.9791, 300)\n",
    "df_rad_300_2 = circle(45.9258, -129.9776, 300)"
   ]
  },
  {
   "cell_type": "code",
   "execution_count": null,
   "metadata": {},
   "outputs": [],
   "source": [
    "holes = [['AXIAL_01A', 45.925414, -129.977862],\n",
    "         ['AXIAL_02A', 45.926026, -129.971828],\n",
    "         ['AXIAL_03A', 45.916465, -129.976786],\n",
    "         ['AXIAL_04A', 45.920833, -129.977222]]\n",
    "holes_df = pd.DataFrame(holes, columns = ['name', 'lat', 'lon']).set_index('name')\n",
    "holes_df"
   ]
  },
  {
   "cell_type": "code",
   "execution_count": null,
   "metadata": {},
   "outputs": [],
   "source": [
    "hole_names = ['AXIAL_01A', 'AXIAL_01B',  'AXIAL_01C',  'AXIAL_01D']\n",
    "axial_01A = [45.925414, -129.977862]\n",
    "axial_01B = [45.926026, -129.971828]\n",
    "axial_01C = [45.916465, -129.976786]\n",
    "axial_01D = [45.9208333, -129.9772222]\n",
    "\n",
    "data = [{'lat': axial_01a[0], 'lon':axial_01a[1]}, \n",
    "        {'lat': axial_01b[0], 'lon': axial_01b[1]}, \n",
    "        {'lat': axial_01c[0], 'lon': axial_01c[1]}, \n",
    "        {'lat': axial_01d[0], 'lon': axial_01d[1]}]\n",
    "\n",
    "df_holes = pd.DataFrame(data, index =['axial_01A', 'axial_01B',  'axial_01C',  'axial_01D'])\n",
    "df_holes"
   ]
  },
  {
   "cell_type": "code",
   "execution_count": null,
   "metadata": {},
   "outputs": [],
   "source": [
    "plot_opts('x': 'lon', 'y': 'lat', 'geo': True, 'hover': True, 'frame_height': 600, 'frame_width': 800)\n",
    "ds_thickness.hvplot.quadmesh(**plot_opts, hover_cols=['lon', 'lat', 'thickness']) \\\n",
    "  * df_vents_plot.hvplot.points(**plot_opts, c='red', s=10, hover_cols=['lon', 'lat', 'name']) \\\n",
    "  * df_ooi_objects_plot.hvplot.points(**plot_opts, c='black', s=10, hover_cols=['name']) \\\n",
    "  * df_ooi_cables_plot.hvplot.points(**plot_opts, c = 'black', s = 2) \\\n",
    "  * df_rad_300_1.hvplot.paths(x = 'lon', y = 'lat', geo = True, c = 'blue') \\\n",
    "  * df_rad_300_2.hvplot.paths(x = 'lon', y = 'lat', geo = True, c = 'blue') \\\n",
    "  * df_holes.hvplot.points(x = 'lon', y = 'lat', geo = True, c = 'yellow')"
   ]
  },
  {
   "cell_type": "code",
   "execution_count": null,
   "metadata": {},
   "outputs": [],
   "source": [
    "df_ooi_cables_plot.hvplot.line(x = 'lon', y = 'lat', geo = True, by = 'name', c = 'red', dynamic = False)"
   ]
  },
  {
   "cell_type": "code",
   "execution_count": null,
   "metadata": {},
   "outputs": [],
   "source": [
    "ax = plt.axes(projection=ccrs.Mercator())\n",
    "ds.thickness.plot(x = 'lon', y = 'lat')\n",
    "#ax.stock_img()\n",
    "plt.show()"
   ]
  },
  {
   "cell_type": "code",
   "execution_count": null,
   "metadata": {},
   "outputs": [],
   "source": [
    "proj = ccrs.Mercator()\n",
    "plt.figure(figsize=(30,20))\n",
    "ax = plt.axes(projection=proj)\n",
    "\n",
    "#ax = plt.axes(projection=ccrs.PlateCarree(central_longitude=180))\n",
    "#ax.coastlines(zorder=1)\n",
    "xticks = range(0, 361, 10000)\n",
    "ax.set_xticks(xticks, crs=proj)\n",
    "yticks = range(-90, 91, 30)\n",
    "ax.set_yticks(yticks, crs=proj)\n",
    "#ax.set_title('central longitude = 180')\n",
    "ax.scatter(x = ds.lon, y = ds.lat, s=0.1);"
   ]
  },
  {
   "cell_type": "code",
   "execution_count": null,
   "metadata": {},
   "outputs": [],
   "source": [
    "import holoviews as hv\n",
    "import geoviews as gv\n",
    "import geoviews.feature as gf\n",
    "import xarray as xr\n",
    "from cartopy import crs\n",
    "\n",
    "gv.extension('bokeh', 'matplotlib')"
   ]
  },
  {
   "cell_type": "code",
   "execution_count": null,
   "metadata": {},
   "outputs": [],
   "source": [
    "#scatter = hv.Scatter(data=df, kdims = ['lon', 'lat'], vdims=['thickness'])\n",
    "scatter = hv.Scatter(data=df, vdims = ['lon', 'lat', 'thickness'])\n",
    "scatter.opts(frame_width=600, frame_height=600, colorbar=True, axiswise=True)"
   ]
  },
  {
   "cell_type": "code",
   "execution_count": null,
   "metadata": {},
   "outputs": [],
   "source": [
    "scatter = hv.Scatter(ds, vdims=['lon', 'lat', 'thickness'])\n",
    "scatter"
   ]
  },
  {
   "cell_type": "code",
   "execution_count": null,
   "metadata": {},
   "outputs": [],
   "source": [
    "qmesh = gv.Dataset(ds.thickness).to(gv.QuadMesh)"
   ]
  },
  {
   "cell_type": "code",
   "execution_count": null,
   "metadata": {},
   "outputs": [],
   "source": [
    "gvds = gv.Dataset(ds)\n",
    "gvds"
   ]
  },
  {
   "cell_type": "code",
   "execution_count": null,
   "metadata": {},
   "outputs": [],
   "source": [
    "type(gvds)"
   ]
  },
  {
   "cell_type": "code",
   "execution_count": null,
   "metadata": {},
   "outputs": [],
   "source": [
    "import geoviews as gv\n",
    "gv.extension('bokeh')\n",
    "import holoviews as hv"
   ]
  },
  {
   "cell_type": "code",
   "execution_count": null,
   "metadata": {},
   "outputs": [],
   "source": [
    "quadmesh.thickness.to(hv.HoloMap)"
   ]
  },
  {
   "cell_type": "code",
   "execution_count": null,
   "metadata": {},
   "outputs": [],
   "source": [
    "quadmesh = gvds.to(gv.QuadMesh, ['lon', 'lat'])"
   ]
  },
  {
   "cell_type": "code",
   "execution_count": null,
   "metadata": {},
   "outputs": [],
   "source": [
    "type(quadmesh)"
   ]
  },
  {
   "cell_type": "code",
   "execution_count": null,
   "metadata": {},
   "outputs": [],
   "source": [
    "quadmesh"
   ]
  },
  {
   "cell_type": "code",
   "execution_count": null,
   "metadata": {},
   "outputs": [],
   "source": [
    "qmesh = gv.Dataset(ds.thickness[::3,::2]).to(gv.QuadMesh, groupby='time')"
   ]
  },
  {
   "cell_type": "code",
   "execution_count": null,
   "metadata": {},
   "outputs": [],
   "source": [
    "type(qmesh)"
   ]
  },
  {
   "cell_type": "code",
   "execution_count": null,
   "metadata": {},
   "outputs": [],
   "source": [
    "type(rasm.Tair)"
   ]
  },
  {
   "cell_type": "code",
   "execution_count": null,
   "metadata": {},
   "outputs": [],
   "source": [
    "type(ds.thickness)"
   ]
  },
  {
   "cell_type": "code",
   "execution_count": null,
   "metadata": {},
   "outputs": [],
   "source": [
    "rasm.Tair"
   ]
  },
  {
   "cell_type": "code",
   "execution_count": null,
   "metadata": {},
   "outputs": [],
   "source": [
    "ds.thickness"
   ]
  },
  {
   "cell_type": "code",
   "execution_count": null,
   "metadata": {},
   "outputs": [],
   "source": [
    "gvds = gv.Dataset(ds, ['lon', 'lat'], 'thickness', crs=crs.Mercator())\n",
    "#images = dataset.to(gv.Image)\n",
    "gvds"
   ]
  },
  {
   "cell_type": "code",
   "execution_count": null,
   "metadata": {},
   "outputs": [],
   "source": [
    "qmesh = gv.Dataset(ds.thickness).to(gv.QuadMesh)"
   ]
  },
  {
   "cell_type": "code",
   "execution_count": null,
   "metadata": {},
   "outputs": [],
   "source": [
    "qmesh = gvds.to(gv.QuadMesh)"
   ]
  },
  {
   "cell_type": "code",
   "execution_count": null,
   "metadata": {},
   "outputs": [],
   "source": [
    "qmesh.to(hv.HoloMap)"
   ]
  },
  {
   "cell_type": "code",
   "execution_count": null,
   "metadata": {},
   "outputs": [],
   "source": [
    "dir(qmesh)"
   ]
  },
  {
   "cell_type": "code",
   "execution_count": null,
   "metadata": {},
   "outputs": [],
   "source": [
    "qmesh.opts(projection=ccrs.Mercator())"
   ]
  },
  {
   "cell_type": "code",
   "execution_count": null,
   "metadata": {},
   "outputs": [],
   "source": [
    "gmesh"
   ]
  },
  {
   "cell_type": "code",
   "execution_count": null,
   "metadata": {},
   "outputs": [],
   "source": [
    "plt.figure(figsize=(14,6))\n",
    "ax = plt.axes(projection=ccrs.PlateCarree())\n",
    "ax.set_global()\n",
    "ds.thickness.plot.pcolormesh(ax=ax, transform=ccrs.PlateCarree(), x='lon', y='lat', add_colorbar=False)\n",
    "ax.coastlines()\n",
    "ax.set_ylim([0,90]);"
   ]
  },
  {
   "cell_type": "code",
   "execution_count": null,
   "metadata": {},
   "outputs": [],
   "source": [
    "ds.to_netcdf('../data/test.nc')"
   ]
  },
  {
   "cell_type": "code",
   "execution_count": null,
   "metadata": {},
   "outputs": [],
   "source": [
    "data_dir = '/home/jovyan/github/ooicloud/axial-drilling/maps/data/'\n",
    "depth_file = 'test.nc'\n",
    "fig = pygmt.Figure()\n",
    "fig.basemap(region=[-130-3.75/60, -129-57/60, 45+54/60, 46], projection=\"M-130/46/10i\", frame=True)\n",
    "fig.grdimage('%s%s' % (data_dir, depth_file))"
   ]
  },
  {
   "cell_type": "code",
   "execution_count": null,
   "metadata": {},
   "outputs": [],
   "source": [
    "# create a grid that spans 0 359 E, and -89 to 90 N.\n",
    "longitude = np.arange(0, 360, 1)\n",
    "latitude = np.arange(-89, 91, 1)\n",
    "x = np.sin(np.deg2rad(longitude))\n",
    "y = np.linspace(start=0, stop=1, num=180)\n",
    "data = y[:, np.newaxis] * x\n",
    "\n",
    "# create a DataArray, and then export this as a netcdf file\n",
    "dataarray = xr.DataArray(data, coords=[('latitude', latitude,\n",
    "                                       {'units': 'degrees_north'}),\n",
    "                                       ('longitude', longitude,\n",
    "                                       {'units': 'degrees_east'})], \n",
    "                         attrs = {'actual_range': [-1, 1]})\n",
    "dataset = dataarray.to_dataset(name='dataarray')\n",
    "dataset.to_netcdf('test.grd')\n",
    "\n",
    "fig = pygmt.Figure()\n",
    "\n",
    "# create a projected image using the DataArray in memory and the netcdf file\n",
    "fig.grdimage(dataset.dataarray, region='g', projection='A0/0/6i')\n",
    "fig.grdimage('test.grd', region='g', projection='A0/0/6i', X='6.2i')\n",
    "    "
   ]
  },
  {
   "cell_type": "code",
   "execution_count": null,
   "metadata": {},
   "outputs": [],
   "source": [
    "fig.show()"
   ]
  },
  {
   "cell_type": "code",
   "execution_count": null,
   "metadata": {},
   "outputs": [],
   "source": [
    "import xarray as xr\n",
    "import cartopy.crs as ccrs\n",
    "import geoviews as gv\n",
    "\n",
    "gv.extension('matplotlib')\n",
    "gv.output(fig='svg', size=300)"
   ]
  },
  {
   "cell_type": "code",
   "execution_count": null,
   "metadata": {},
   "outputs": [],
   "source": [
    "qmeshes.opts(projection=ccrs.GOOGLE_MERCATOR)"
   ]
  },
  {
   "cell_type": "code",
   "execution_count": null,
   "metadata": {},
   "outputs": [],
   "source": [
    "tiles = gv.tile_sources.EsriImagery\n",
    "rasm = xr.tutorial.open_dataset('rasm').load()\n",
    "qmeshes = gv.Dataset(rasm.Tair[::4, ::3, ::3]).to(gv.QuadMesh, groupby='time')"
   ]
  },
  {
   "cell_type": "markdown",
   "metadata": {},
   "source": [
    "---\n",
    "## Clean up GRD files\n",
    "Only do once!"
   ]
  },
  {
   "cell_type": "code",
   "execution_count": null,
   "metadata": {},
   "outputs": [],
   "source": [
    "# clip bad values\n",
    "data_dir = '/home/jovyan/github/ooicloud/axial-drilling/maps/data/'\n",
    "\n",
    "infile = 'axial_auv_mbari09and11n_gcs_1m_v3.grd'\n",
    "tmpfile1 = 'tmp1.grd'\n",
    "cmd = ('gmt grdclip %s%s -G%s%s -Sb-1600/NaN -Sa1500/NaN' % (data_dir, infile, data_dir, tmpfile1))\n",
    "os.system(cmd);\n",
    "\n",
    "infile = 'axial_auv_mbari09and11c_gcs_1m_v3.grd'\n",
    "tmpfile2 = 'tmp2.grd'\n",
    "cmd = ('gmt grdclip %s%s -G%s%s -Sb-1600/NaN -Sa1500/NaN' % (data_dir, infile, data_dir, tmpfile2))\n",
    "os.system(cmd);\n",
    "\n",
    "infile = 'axial_auv_mbari09and11s_gcs_1m_v3.grd'\n",
    "tmpfile3 = 'tmp3.grd'\n",
    "cmd = ('gmt grdclip %s%s -G%s%s -Sb-1600/NaN -Sa1500/NaN' % (data_dir, infile, data_dir, tmpfile3))\n",
    "os.system(cmd);"
   ]
  },
  {
   "cell_type": "code",
   "execution_count": null,
   "metadata": {},
   "outputs": [],
   "source": [
    "# blend GRD files\n",
    "tmpfile4 = 'tmp4.grd'\n",
    "cmd = ('gmt grdblend %s%s %s%s -G%s%s' % (data_dir, tmpfile1, data_dir, tmpfile2, data_dir, tmpfile4))\n",
    "os.system(cmd);\n",
    "\n",
    "tmpfile5 = 'tmp5.grd'\n",
    "cmd = ('gmt grdblend %s%s %s%s -G%s%s' % (data_dir, tmpfile4, data_dir, tmpfile3, data_dir, tmpfile5))\n",
    "os.system(cmd);"
   ]
  },
  {
   "cell_type": "code",
   "execution_count": null,
   "metadata": {},
   "outputs": [],
   "source": [
    "# crop region\n",
    "bathy_grd = 'axial_auv_mbari09and11_clean_gcs_1m_v3.grd'\n",
    "cmd = ('gmt grdcut %s%s -G%s%s -R%0.8f/%0.8f/%0.8f/%0.8f' % (data_dir, tmpfile5, data_dir, bathy_grd, -130-3.75/60, -129-57/60, 45+54/60, 46))\n",
    "os.system(cmd);"
   ]
  },
  {
   "cell_type": "code",
   "execution_count": null,
   "metadata": {},
   "outputs": [],
   "source": [
    "# clean up\n",
    "os.system('rm %s%s' % (data_dir, tmpfile1));\n",
    "os.system('rm %s%s' % (data_dir, tmpfile2));\n",
    "os.system('rm %s%s' % (data_dir, tmpfile3));\n",
    "os.system('rm %s%s' % (data_dir, tmpfile4));\n",
    "os.system('rm %s%s' % (data_dir, tmpfile5));\n",
    "os.system('rm %s%s' % (data_dir, tmpfile1));\n",
    "os.system('rm %s%s' % (data_dir, tmpfile1));"
   ]
  }
 ],
 "metadata": {
  "kernelspec": {
   "display_name": "Python 3",
   "language": "python",
   "name": "python3"
  },
  "language_info": {
   "codemirror_mode": {
    "name": "ipython",
    "version": 3
   },
   "file_extension": ".py",
   "mimetype": "text/x-python",
   "name": "python",
   "nbconvert_exporter": "python",
   "pygments_lexer": "ipython3",
   "version": "3.7.6"
  }
 },
 "nbformat": 4,
 "nbformat_minor": 4
}
